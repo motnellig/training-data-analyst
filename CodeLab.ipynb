{
  "nbformat": 4,
  "nbformat_minor": 0,
  "metadata": {
    "colab": {
      "name": "CodeLab.ipynb",
      "version": "0.3.2",
      "provenance": [],
      "include_colab_link": true
    },
    "kernelspec": {
      "name": "python3",
      "display_name": "Python 3"
    }
  },
  "cells": [
    {
      "cell_type": "markdown",
      "metadata": {
        "id": "view-in-github",
        "colab_type": "text"
      },
      "source": [
        "[View in Colaboratory](https://colab.research.google.com/github/motnellig/training-data-analyst/blob/master/CodeLab.ipynb)"
      ]
    },
    {
      "metadata": {
        "id": "nrZzqM-AvIUm",
        "colab_type": "code",
        "colab": {}
      },
      "cell_type": "code",
      "source": [
        ""
      ],
      "execution_count": 0,
      "outputs": []
    },
    {
      "metadata": {
        "id": "KZhFMbBYvM3g",
        "colab_type": "text"
      },
      "cell_type": "markdown",
      "source": [
        "## CodeLab for Google Cloud\n",
        "\n",
        "https://codelabs.developers.google.com/"
      ]
    }
  ]
}