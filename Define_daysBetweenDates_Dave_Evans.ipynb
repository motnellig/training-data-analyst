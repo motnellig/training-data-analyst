{
  "nbformat": 4,
  "nbformat_minor": 0,
  "metadata": {
    "colab": {
      "name": "Define daysBetweenDates Dave Evans.ipynb",
      "version": "0.3.2",
      "provenance": [],
      "collapsed_sections": []
    },
    "kernelspec": {
      "name": "python2",
      "display_name": "Python 2"
    }
  },
  "cells": [
    {
      "cell_type": "markdown",
      "metadata": {
        "id": "view-in-github",
        "colab_type": "text"
      },
      "source": [
        "[View in Colaboratory](https://colab.research.google.com/github/motnellig/training-data-analyst/blob/master/Define_daysBetweenDates_Dave_Evans.ipynb)"
      ]
    },
    {
      "metadata": {
        "id": "0lz0T5byihzx",
        "colab_type": "text"
      },
      "cell_type": "markdown",
      "source": [
        "# Dave Evan's Module \"On How to Solve Problems\"\n",
        "\n",
        "Dave Evans has several courses on Udacity.  This is one module on the ripoff for $800.00 Introduction to Self Driving Cars.  An interesting approach was how to build a program to determine the number of days between dates.  An interesting project that has many answers but he explans how he solved it; very differently than the way the rest of the course was set up.\n",
        "\n",
        "Floating around on the web is the solution in an object oriented structure.\n",
        "\n"
      ]
    },
    {
      "metadata": {
        "id": "UJMTbr7gn_9G",
        "colab_type": "text"
      },
      "cell_type": "markdown",
      "source": [
        "### 1-27 Define daysBetweenDates\n",
        "\n",
        "Simplistic code but I was not thinking in that direction.\n",
        "\n",
        "The test function is interesting code.  \n",
        "\n",
        "How each function calls another function is not straight forward to me.  I do not have this conceptulaized yet.  Function \"**Test**\" calls \"**daysBetweenDates**\" and args supplies it with the data\n",
        "\n",
        "**daysBetweenDates**\"  in this iteration only works on years and the calls  \"** nextDay\"**.  This is were I am confused:  How does its output get back into **daysBetweenDates**?"
      ]
    },
    {
      "metadata": {
        "id": "wBHZjofHoyve",
        "colab_type": "code",
        "colab": {
          "base_uri": "https://localhost:8080/",
          "height": 68
        },
        "outputId": "68f1bb20-186b-40c3-a180-5475a45494f0"
      },
      "cell_type": "code",
      "source": [
        "#1-27 Define daysBetweenDates\n",
        "\n",
        "# Define a daysBetweenDates procedure that would produce the\n",
        "# correct output if there was a correct nextDay procedure.\n",
        "#\n",
        "# Note that this will NOT produce correct ouptuts yet, since\n",
        "# our nextDay procedure assumes all months have 30 days\n",
        "# (hence a year is 360 days, instead of 365).\n",
        "# \n",
        "\n",
        "def nextDay(year, month, day):\n",
        "    \"\"\"Simple version: assume every month has 30 days\"\"\"\n",
        "    if day < 30:\n",
        "        return year, month, day + 1\n",
        "    else:\n",
        "        if month == 12:\n",
        "            return year + 1, 1, 1\n",
        "        else:\n",
        "            return year, month + 1, 1\n",
        "\n",
        "###this is the code          \n",
        "          \n",
        "def daysBetweenDates(year1, month1, day1, year2, month2, day2):\n",
        "    \"\"\"Returns the number of days between year1/month1/day1\n",
        "       and year2/month2/day2. Assumes inputs are valid dates\n",
        "       in Gregorian calendar, and the first date is not after\n",
        "       the second.\"\"\"\n",
        "        \n",
        "    days=0\n",
        "    if year1 < year2:\n",
        "        days = days + 1\n",
        "        return nextDay\n",
        "    else:\n",
        "    \n",
        "        return days\n",
        "\n",
        "    \n",
        "    #test code that is interesting\n",
        "def test():\n",
        "    test_cases = [((2012,9,30,2012,10,30),30), \n",
        "                  ((2012,1,1,2013,1,1),360),\n",
        "                  ((2012,9,1,2012,9,4),3)]\n",
        "    \n",
        "    for (args, answer) in test_cases:\n",
        "        result = daysBetweenDates(*args)\n",
        "        if result != answer:\n",
        "            print \"Test with data:\", args, \"failed\"\n",
        "        else:\n",
        "            print \"Test case passed!\"\n",
        "\n",
        "test()"
      ],
      "execution_count": 0,
      "outputs": [
        {
          "output_type": "stream",
          "text": [
            "Test with data: (2012, 9, 30, 2012, 10, 30) failed\n",
            "Test with data: (2012, 1, 1, 2013, 1, 1) failed\n",
            "Test with data: (2012, 9, 1, 2012, 9, 4) failed\n"
          ],
          "name": "stdout"
        }
      ]
    },
    {
      "metadata": {
        "id": "tW2jKDhMqMhG",
        "colab_type": "text"
      },
      "cell_type": "markdown",
      "source": [
        "### 1-28 Pseudocode\n",
        "\n",
        "Evans is a real believer in Pseudocode.  \n",
        "\n",
        "days=0\n",
        "while date1is before date2:\n",
        "      date1= day after date1\n",
        "      days +=1\n",
        "return days"
      ]
    },
    {
      "metadata": {
        "id": "-9Gz4Q-OlaFh",
        "colab_type": "text"
      },
      "cell_type": "markdown",
      "source": [
        "### 1- 29 Step Two Helper Funtion\n",
        "\n",
        "I found this code to be an eye opener!  I did not have a clue how to solve it.\n",
        "\n",
        "I am unsure why he called it a helper procedure?"
      ]
    },
    {
      "metadata": {
        "id": "lhS5HjADnQGV",
        "colab_type": "code",
        "colab": {}
      },
      "cell_type": "code",
      "source": [
        "# didn't have a clue how to solve this helper function          \n",
        "def dateIsBefore(year1, month1, day1, year2, month2, day2):\n",
        "  if year1 < year2:\n",
        "    return True\n",
        "  if year1 == year2:\n",
        "    if month1 < month2:\n",
        "      return True\n",
        "    if month1 == month2:\n",
        "      return day1 < day2\n",
        "  return False"
      ],
      "execution_count": 0,
      "outputs": []
    },
    {
      "metadata": {
        "id": "-Lxav-4Rn_7E",
        "colab_type": "text"
      },
      "cell_type": "markdown",
      "source": [
        "### 1-30 daysBetweenDates\n",
        "\n",
        "```\n",
        "# This is formatted as code\n",
        "```\n",
        "\n"
      ]
    },
    {
      "metadata": {
        "id": "r5NFMVuPKwAs",
        "colab_type": "code",
        "colab": {
          "base_uri": "https://localhost:8080/",
          "height": 130
        },
        "outputId": "aaada947-e27a-4c7e-f6cc-ec963f3373e5"
      },
      "cell_type": "code",
      "source": [
        "def daysBetweenDates(year1, month1, day1, year2, month2, day2):\n",
        "  \n",
        "  \n",
        "    \"\"\"Returns the number of days between year1/month1/day1\n",
        "       and year2/month2/day2. Assumes inputs are valid dates\n",
        "       in Gregorian calendar, and the first date is not after\n",
        "       the second.\"\"\"\n",
        "        \n",
        "    \n",
        "  days = 0\n",
        "  while dateIsBefore(year1, month1, day1, year2, month2, day2):\n",
        "    year1, month1, day1 = nextDay(year1, month1, day1)\n",
        "    days += 1\n",
        "  return days    "
      ],
      "execution_count": 0,
      "outputs": [
        {
          "output_type": "error",
          "ename": "IndentationError",
          "evalue": "ignored",
          "traceback": [
            "\u001b[0;36m  File \u001b[0;32m\"<ipython-input-2-1c0626d17367>\"\u001b[0;36m, line \u001b[0;32m10\u001b[0m\n\u001b[0;31m    days = 0\u001b[0m\n\u001b[0m            ^\u001b[0m\n\u001b[0;31mIndentationError\u001b[0m\u001b[0;31m:\u001b[0m unindent does not match any outer indentation level\n"
          ]
        }
      ]
    },
    {
      "metadata": {
        "id": "f6QHYUI4NIDz",
        "colab_type": "text"
      },
      "cell_type": "markdown",
      "source": [
        "### 1-31 Test for valid input\n",
        "\n",
        "This is an assertion"
      ]
    },
    {
      "metadata": {
        "id": "pRswxMk4N0rC",
        "colab_type": "code",
        "colab": {}
      },
      "cell_type": "code",
      "source": [
        "#before days =0\n",
        "asert not dateIsBefore(year2, month2,day2,year1, month1, day2):"
      ],
      "execution_count": 0,
      "outputs": []
    },
    {
      "metadata": {
        "id": "UoErKYz2SQoB",
        "colab_type": "text"
      },
      "cell_type": "markdown",
      "source": [
        "###1-35 Finish daysBetweenDates"
      ]
    },
    {
      "metadata": {
        "id": "5sYzlBzBSaKZ",
        "colab_type": "code",
        "colab": {
          "base_uri": "https://localhost:8080/",
          "height": 102
        },
        "outputId": "c9299885-64ca-4f41-8b7a-1504834e6fcd"
      },
      "cell_type": "code",
      "source": [
        "# By Websten from forums\n",
        "#\n",
        "# Given your birthday and the current date, calculate your age in days. \n",
        "# Compensate for leap days. \n",
        "# Assume that the birthday and current date are correct dates (and no time travel). \n",
        "# Simply put, if you were born 1 Jan 2012 and todays date is 2 Jan 2012 \n",
        "# you are 1 day old.\n",
        "#\n",
        "# Hint\n",
        "# A whole year is 365 days, 366 if a leap year. \n",
        "\n",
        "def nextDay(year, month, day):\n",
        "    \"\"\"Simple version: assume every month has 30 days\"\"\"\n",
        "    if day < 30:\n",
        "        return year, month, day + 1\n",
        "    else:\n",
        "        if month == 12:\n",
        "            return year + 1, 1, 1\n",
        "        else:\n",
        "            return year, month + 1, 1\n",
        "        \n",
        "def dateIsAfter(year1, month1, day1, year2, month2, day2):\n",
        "    \"\"\"Returns True if year1-month1-day1 is after year2-month2-day2.  Otherwise, returns False.\"\"\"\n",
        "    if year1 > year2:\n",
        "        return True\n",
        "    if year1 == year2:\n",
        "        if month1 > month2:\n",
        "            return True\n",
        "        if month1 == month2:\n",
        "            return day1 > day2\n",
        "        return False        \n",
        "\n",
        "def daysBetweenDates(year1, month1, day1, year2, month2, day2):\n",
        "    \"\"\"Returns the number of days between year1/month1/day1\n",
        "       and year2/month2/day2. Assumes inputs are valid dates\n",
        "       in Gregorian calendar.\"\"\"\n",
        "    # program defensively! Add an assertion if the input is not valid!\n",
        "\n",
        "    days = 0\n",
        "    while dateIsAfter(year2, month2, day2, year1, month1, day1):\n",
        "        days += 1\n",
        "        (year1, month1, day1) = nextDay(year1, month1, day1)\n",
        "        return days\n",
        "\n",
        "def test():\n",
        "    test_cases = [((2012,1,1,2012,2,28), 58), \n",
        "                  ((2012,1,1,2012,3,1), 60),\n",
        "                  ((2011,6,30,2012,6,30), 366),\n",
        "                  ((2011,1,1,2012,8,8), 585 ),\n",
        "                  ((1900,1,1,1999,12,31), 36523)]\n",
        "    \n",
        "    for (args, answer) in test_cases:\n",
        "        result = daysBetweenDates(*args)\n",
        "        if result != answer:\n",
        "            print \"Test with data:\", args, \"failed\"\n",
        "        else:\n",
        "            print \"Test case passed!\"\n",
        "\n",
        "test()"
      ],
      "execution_count": 0,
      "outputs": [
        {
          "output_type": "stream",
          "text": [
            "Test with data: (2012, 1, 1, 2012, 2, 28) failed\n",
            "Test with data: (2012, 1, 1, 2012, 3, 1) failed\n",
            "Test with data: (2011, 6, 30, 2012, 6, 30) failed\n",
            "Test with data: (2011, 1, 1, 2012, 8, 8) failed\n",
            "Test with data: (1900, 1, 1, 1999, 12, 31) failed\n"
          ],
          "name": "stdout"
        }
      ]
    },
    {
      "metadata": {
        "id": "D4gNnsPrSr4Q",
        "colab_type": "text"
      },
      "cell_type": "markdown",
      "source": [
        "###1-36 Solution Step1\n",
        "\n",
        "It seems as if he ran out of time and now he is just throwing everything out there"
      ]
    },
    {
      "metadata": {
        "id": "sRkNyn8XS1-U",
        "colab_type": "code",
        "colab": {
          "base_uri": "https://localhost:8080/",
          "height": 555
        },
        "outputId": "339d9b66-27b0-41a0-9514-0120e192e7ef"
      },
      "cell_type": "code",
      "source": [
        "def daysInMonth(year, month):\n",
        "  return 30\n",
        "\n",
        "def nextDay(year, month, day):\n",
        "    \"\"\"Simple version: assume every month has 30 days\"\"\"\n",
        "    if day < daysInMonth():\n",
        "        return year, month, day + 1\n",
        "    else:\n",
        "        if month == 12:\n",
        "            return year + 1, 1, 1\n",
        "        else:\n",
        "            return year, month + 1, 1\n",
        "def dateIsAfter(year1, month1, day1, year2, month2, day2):\n",
        "   \"\"\"Returns True if year1-month1-day1 is after year2-month2-day2.  Otherwise, returns False.\"\"\"\n",
        "   if year1 > year2:\n",
        "       return True\n",
        "   if year1 == year2:\n",
        "       if month1 > month2:\n",
        "           return True\n",
        "       if month1 == month2:\n",
        "           return day1 > day2\n",
        "       return False        \n",
        "\n",
        "def daysBetweenDates(year1, month1, day1, year2, month2, day2):\n",
        "    \"\"\"Returns the number of days between year1/month1/day1\n",
        "       and year2/month2/day2. Assumes inputs are valid dates\n",
        "       in Gregorian calendar.\"\"\"\n",
        "    # program defensively! Add an assertion if the input is not valid!\n",
        "\n",
        "    days = 0\n",
        "    while dateIsAfter(year2, month2, day2, year1, month1, day1):\n",
        "        days += 1\n",
        "        (year1, month1, day1) = nextDay(year1, month1, day1)\n",
        "    return days\n",
        "\n",
        "def test():\n",
        "  #tests with 30- day months!\n",
        "  assert daysBetweenDates(2013,1,1, 2013,1,1)==0\n",
        "  assert daysBetweenDates(2013,1,1, 2013,1,2)==1\n",
        "  assert nextDay(2013, 1, 1)== (2013, 1, 2)\n",
        "  assert nextDay(2013, 4, 30)== (2013, 5, 1)\n",
        "  assert nextDay(2012, 12, 31)== (2013, 1, 1)\n",
        "  print \"Test Completed\"\n",
        "  \n",
        "test()"
      ],
      "execution_count": 0,
      "outputs": [
        {
          "output_type": "error",
          "ename": "TypeError",
          "evalue": "ignored",
          "traceback": [
            "\u001b[0;31m\u001b[0m",
            "\u001b[0;31mTypeError\u001b[0mTraceback (most recent call last)",
            "\u001b[0;32m<ipython-input-49-825a9f02a7b9>\u001b[0m in \u001b[0;36m<module>\u001b[0;34m()\u001b[0m\n\u001b[1;32m     43\u001b[0m   \u001b[0;32mprint\u001b[0m \u001b[0;34m\"Test Completed\"\u001b[0m\u001b[0;34m\u001b[0m\u001b[0m\n\u001b[1;32m     44\u001b[0m \u001b[0;34m\u001b[0m\u001b[0m\n\u001b[0;32m---> 45\u001b[0;31m \u001b[0mtest\u001b[0m\u001b[0;34m(\u001b[0m\u001b[0;34m)\u001b[0m\u001b[0;34m\u001b[0m\u001b[0m\n\u001b[0m",
            "\u001b[0;32m<ipython-input-49-825a9f02a7b9>\u001b[0m in \u001b[0;36mtest\u001b[0;34m()\u001b[0m\n\u001b[1;32m     37\u001b[0m   \u001b[0;31m#tests with 30- day months!\u001b[0m\u001b[0;34m\u001b[0m\u001b[0;34m\u001b[0m\u001b[0m\n\u001b[1;32m     38\u001b[0m   \u001b[0;32massert\u001b[0m \u001b[0mdaysBetweenDates\u001b[0m\u001b[0;34m(\u001b[0m\u001b[0;36m2013\u001b[0m\u001b[0;34m,\u001b[0m\u001b[0;36m1\u001b[0m\u001b[0;34m,\u001b[0m\u001b[0;36m1\u001b[0m\u001b[0;34m,\u001b[0m \u001b[0;36m2013\u001b[0m\u001b[0;34m,\u001b[0m\u001b[0;36m1\u001b[0m\u001b[0;34m,\u001b[0m\u001b[0;36m1\u001b[0m\u001b[0;34m)\u001b[0m\u001b[0;34m==\u001b[0m\u001b[0;36m0\u001b[0m\u001b[0;34m\u001b[0m\u001b[0m\n\u001b[0;32m---> 39\u001b[0;31m   \u001b[0;32massert\u001b[0m \u001b[0mdaysBetweenDates\u001b[0m\u001b[0;34m(\u001b[0m\u001b[0;36m2013\u001b[0m\u001b[0;34m,\u001b[0m\u001b[0;36m1\u001b[0m\u001b[0;34m,\u001b[0m\u001b[0;36m1\u001b[0m\u001b[0;34m,\u001b[0m \u001b[0;36m2013\u001b[0m\u001b[0;34m,\u001b[0m\u001b[0;36m1\u001b[0m\u001b[0;34m,\u001b[0m\u001b[0;36m2\u001b[0m\u001b[0;34m)\u001b[0m\u001b[0;34m==\u001b[0m\u001b[0;36m1\u001b[0m\u001b[0;34m\u001b[0m\u001b[0m\n\u001b[0m\u001b[1;32m     40\u001b[0m   \u001b[0;32massert\u001b[0m \u001b[0mnextDay\u001b[0m\u001b[0;34m(\u001b[0m\u001b[0;36m2013\u001b[0m\u001b[0;34m,\u001b[0m \u001b[0;36m1\u001b[0m\u001b[0;34m,\u001b[0m \u001b[0;36m1\u001b[0m\u001b[0;34m)\u001b[0m\u001b[0;34m==\u001b[0m \u001b[0;34m(\u001b[0m\u001b[0;36m2013\u001b[0m\u001b[0;34m,\u001b[0m \u001b[0;36m1\u001b[0m\u001b[0;34m,\u001b[0m \u001b[0;36m2\u001b[0m\u001b[0;34m)\u001b[0m\u001b[0;34m\u001b[0m\u001b[0m\n\u001b[1;32m     41\u001b[0m   \u001b[0;32massert\u001b[0m \u001b[0mnextDay\u001b[0m\u001b[0;34m(\u001b[0m\u001b[0;36m2013\u001b[0m\u001b[0;34m,\u001b[0m \u001b[0;36m4\u001b[0m\u001b[0;34m,\u001b[0m \u001b[0;36m30\u001b[0m\u001b[0;34m)\u001b[0m\u001b[0;34m==\u001b[0m \u001b[0;34m(\u001b[0m\u001b[0;36m2013\u001b[0m\u001b[0;34m,\u001b[0m \u001b[0;36m5\u001b[0m\u001b[0;34m,\u001b[0m \u001b[0;36m1\u001b[0m\u001b[0;34m)\u001b[0m\u001b[0;34m\u001b[0m\u001b[0m\n",
            "\u001b[0;32m<ipython-input-49-825a9f02a7b9>\u001b[0m in \u001b[0;36mdaysBetweenDates\u001b[0;34m(year1, month1, day1, year2, month2, day2)\u001b[0m\n\u001b[1;32m     31\u001b[0m     \u001b[0;32mwhile\u001b[0m \u001b[0mdateIsAfter\u001b[0m\u001b[0;34m(\u001b[0m\u001b[0myear2\u001b[0m\u001b[0;34m,\u001b[0m \u001b[0mmonth2\u001b[0m\u001b[0;34m,\u001b[0m \u001b[0mday2\u001b[0m\u001b[0;34m,\u001b[0m \u001b[0myear1\u001b[0m\u001b[0;34m,\u001b[0m \u001b[0mmonth1\u001b[0m\u001b[0;34m,\u001b[0m \u001b[0mday1\u001b[0m\u001b[0;34m)\u001b[0m\u001b[0;34m:\u001b[0m\u001b[0;34m\u001b[0m\u001b[0m\n\u001b[1;32m     32\u001b[0m         \u001b[0mdays\u001b[0m \u001b[0;34m+=\u001b[0m \u001b[0;36m1\u001b[0m\u001b[0;34m\u001b[0m\u001b[0m\n\u001b[0;32m---> 33\u001b[0;31m         \u001b[0;34m(\u001b[0m\u001b[0myear1\u001b[0m\u001b[0;34m,\u001b[0m \u001b[0mmonth1\u001b[0m\u001b[0;34m,\u001b[0m \u001b[0mday1\u001b[0m\u001b[0;34m)\u001b[0m \u001b[0;34m=\u001b[0m \u001b[0mnextDay\u001b[0m\u001b[0;34m(\u001b[0m\u001b[0myear1\u001b[0m\u001b[0;34m,\u001b[0m \u001b[0mmonth1\u001b[0m\u001b[0;34m,\u001b[0m \u001b[0mday1\u001b[0m\u001b[0;34m)\u001b[0m\u001b[0;34m\u001b[0m\u001b[0m\n\u001b[0m\u001b[1;32m     34\u001b[0m     \u001b[0;32mreturn\u001b[0m \u001b[0mdays\u001b[0m\u001b[0;34m\u001b[0m\u001b[0m\n\u001b[1;32m     35\u001b[0m \u001b[0;34m\u001b[0m\u001b[0m\n",
            "\u001b[0;32m<ipython-input-49-825a9f02a7b9>\u001b[0m in \u001b[0;36mnextDay\u001b[0;34m(year, month, day)\u001b[0m\n\u001b[1;32m      4\u001b[0m \u001b[0;32mdef\u001b[0m \u001b[0mnextDay\u001b[0m\u001b[0;34m(\u001b[0m\u001b[0myear\u001b[0m\u001b[0;34m,\u001b[0m \u001b[0mmonth\u001b[0m\u001b[0;34m,\u001b[0m \u001b[0mday\u001b[0m\u001b[0;34m)\u001b[0m\u001b[0;34m:\u001b[0m\u001b[0;34m\u001b[0m\u001b[0m\n\u001b[1;32m      5\u001b[0m     \u001b[0;34m\"\"\"Simple version: assume every month has 30 days\"\"\"\u001b[0m\u001b[0;34m\u001b[0m\u001b[0m\n\u001b[0;32m----> 6\u001b[0;31m     \u001b[0;32mif\u001b[0m \u001b[0mday\u001b[0m \u001b[0;34m<\u001b[0m \u001b[0mdaysInMonth\u001b[0m\u001b[0;34m(\u001b[0m\u001b[0;34m)\u001b[0m\u001b[0;34m:\u001b[0m\u001b[0;34m\u001b[0m\u001b[0m\n\u001b[0m\u001b[1;32m      7\u001b[0m         \u001b[0;32mreturn\u001b[0m \u001b[0myear\u001b[0m\u001b[0;34m,\u001b[0m \u001b[0mmonth\u001b[0m\u001b[0;34m,\u001b[0m \u001b[0mday\u001b[0m \u001b[0;34m+\u001b[0m \u001b[0;36m1\u001b[0m\u001b[0;34m\u001b[0m\u001b[0m\n\u001b[1;32m      8\u001b[0m     \u001b[0;32melse\u001b[0m\u001b[0;34m:\u001b[0m\u001b[0;34m\u001b[0m\u001b[0m\n",
            "\u001b[0;31mTypeError\u001b[0m: daysInMonth() takes exactly 2 arguments (0 given)"
          ]
        }
      ]
    },
    {
      "metadata": {
        "id": "rPJJwNxLRaVf",
        "colab_type": "text"
      },
      "cell_type": "markdown",
      "source": [
        "### 1-37 This is the correction for 31 days"
      ]
    },
    {
      "metadata": {
        "id": "smmYl5iaVfM6",
        "colab_type": "code",
        "colab": {}
      },
      "cell_type": "code",
      "source": [
        "def daysInMonth(year, month):\n",
        "  if month==1 or month==3 or month ==5 or month==7 \\\n",
        "    or month==8 or month ==10 or month ==12:\n",
        "    return 31\n",
        "  else:\n",
        "    if month ==2:\n",
        "      \n",
        "      return 28\n",
        "    else:\n",
        "      return\n",
        "    \n",
        "  return 30\n",
        "\n",
        "def test():\n",
        "  #tests with 30- day months!\n",
        "  assert daysBetweenDates(2013,1,1, 2013,1,1)==0\n",
        "  assert daysBetweenDates(2013,1,1, 2013,1,2)==1\n",
        "  assert nextDay(2013, 1, 1)== (2013, 1, 2)\n",
        "  assert nextDay(2013, 4, 30)== (2013, 5, 1)\n",
        "  assert nextDay(2012, 12, 31)== (2013, 1, 1)\n",
        "  assert nextDay(2013, 2, 28)== (2013, 3, 1)\n",
        "  assert nextDay(2013, 9, 30)== (2013, 10, 1)\n",
        "  \n",
        "  print \"Test Completed\"\n",
        "  \n",
        "test()"
      ],
      "execution_count": 0,
      "outputs": []
    },
    {
      "metadata": {
        "id": "FrFv5K9mhlWk",
        "colab_type": "text"
      },
      "cell_type": "markdown",
      "source": [
        "###1-38 Leap year"
      ]
    },
    {
      "metadata": {
        "id": "Dp-k8lS-hx2X",
        "colab_type": "code",
        "colab": {
          "base_uri": "https://localhost:8080/",
          "height": 402
        },
        "outputId": "4744371f-5f1e-4368-febc-6009077de03b"
      },
      "cell_type": "code",
      "source": [
        "def daysInMonth(year, month):\n",
        "  if month==1 or month==3 or month ==5 or month==7 \\\n",
        "    or month==8 or month ==10 or month ==12:\n",
        "    return 31\n",
        "  else:\n",
        "    if month ==2:\n",
        "      if isLeapYear(year):\n",
        "        return 29\n",
        "      \n",
        "    else:\n",
        "      return 28\n",
        "    \n",
        " \n",
        "\n",
        "def isLeapYear(year):\n",
        "  if year%400==0:\n",
        "    return True\n",
        "  if year %100==0:\n",
        "    return False\n",
        "  if year % 4 ==0:\n",
        "    return True\n",
        "  return False\n",
        "\n",
        "print isLeapYear(2000)\n",
        "print isLeapYear(2100)\n",
        "print isLeapYear(2000)\n",
        "print isLeapYear(2012)\n",
        "print isLeapYear(2013)\n",
        "\n",
        "def test():\n",
        "  #tests with 30- day months!\n",
        "  assert daysBetweenDates(2013,1,1, 2013,1,1)==0\n",
        "  assert daysBetweenDates(2013,1,1, 2013,1,2)==1\n",
        "  assert nextDay(2013, 1, 1)== (2013, 1, 2)\n",
        "  assert nextDay(2013, 4, 30)== (2013, 5, 1)\n",
        "  assert nextDay(2012, 12, 31)== (2013, 1, 1)\n",
        "  assert nextDay(2013, 2, 28)== (2013, 3, 1)\n",
        "  assert nextDay(2013, 9, 30)== (2013, 10, 1)\n",
        "  assert nextDay(2013, 2, 28)== (2012, 2, 29)\n",
        "  assert daysBetweenDates(2012,1,1, 2013,1,1)==366\n",
        "  assert daysBetweenDates(2013,1,1, 2014,1,1)==365\n",
        "  assert daysBetweenDates(2013,1,24, 2013,6,29)==156\n",
        "  \n",
        "  print \"Test Completed\"\n",
        "  \n",
        "test()"
      ],
      "execution_count": 0,
      "outputs": [
        {
          "output_type": "stream",
          "text": [
            "True\n",
            "False\n",
            "True\n",
            "True\n",
            "False\n"
          ],
          "name": "stdout"
        },
        {
          "output_type": "error",
          "ename": "NameError",
          "evalue": "ignored",
          "traceback": [
            "\u001b[0;31m\u001b[0m",
            "\u001b[0;31mNameError\u001b[0mTraceback (most recent call last)",
            "\u001b[0;32m<ipython-input-1-9bf04c59e46d>\u001b[0m in \u001b[0;36m<module>\u001b[0;34m()\u001b[0m\n\u001b[1;32m     43\u001b[0m   \u001b[0;32mprint\u001b[0m \u001b[0;34m\"Test Completed\"\u001b[0m\u001b[0;34m\u001b[0m\u001b[0m\n\u001b[1;32m     44\u001b[0m \u001b[0;34m\u001b[0m\u001b[0m\n\u001b[0;32m---> 45\u001b[0;31m \u001b[0mtest\u001b[0m\u001b[0;34m(\u001b[0m\u001b[0;34m)\u001b[0m\u001b[0;34m\u001b[0m\u001b[0m\n\u001b[0m",
            "\u001b[0;32m<ipython-input-1-9bf04c59e46d>\u001b[0m in \u001b[0;36mtest\u001b[0;34m()\u001b[0m\n\u001b[1;32m     29\u001b[0m \u001b[0;32mdef\u001b[0m \u001b[0mtest\u001b[0m\u001b[0;34m(\u001b[0m\u001b[0;34m)\u001b[0m\u001b[0;34m:\u001b[0m\u001b[0;34m\u001b[0m\u001b[0m\n\u001b[1;32m     30\u001b[0m   \u001b[0;31m#tests with 30- day months!\u001b[0m\u001b[0;34m\u001b[0m\u001b[0;34m\u001b[0m\u001b[0m\n\u001b[0;32m---> 31\u001b[0;31m   \u001b[0;32massert\u001b[0m \u001b[0mdaysBetweenDates\u001b[0m\u001b[0;34m(\u001b[0m\u001b[0;36m2013\u001b[0m\u001b[0;34m,\u001b[0m\u001b[0;36m1\u001b[0m\u001b[0;34m,\u001b[0m\u001b[0;36m1\u001b[0m\u001b[0;34m,\u001b[0m \u001b[0;36m2013\u001b[0m\u001b[0;34m,\u001b[0m\u001b[0;36m1\u001b[0m\u001b[0;34m,\u001b[0m\u001b[0;36m1\u001b[0m\u001b[0;34m)\u001b[0m\u001b[0;34m==\u001b[0m\u001b[0;36m0\u001b[0m\u001b[0;34m\u001b[0m\u001b[0m\n\u001b[0m\u001b[1;32m     32\u001b[0m   \u001b[0;32massert\u001b[0m \u001b[0mdaysBetweenDates\u001b[0m\u001b[0;34m(\u001b[0m\u001b[0;36m2013\u001b[0m\u001b[0;34m,\u001b[0m\u001b[0;36m1\u001b[0m\u001b[0;34m,\u001b[0m\u001b[0;36m1\u001b[0m\u001b[0;34m,\u001b[0m \u001b[0;36m2013\u001b[0m\u001b[0;34m,\u001b[0m\u001b[0;36m1\u001b[0m\u001b[0;34m,\u001b[0m\u001b[0;36m2\u001b[0m\u001b[0;34m)\u001b[0m\u001b[0;34m==\u001b[0m\u001b[0;36m1\u001b[0m\u001b[0;34m\u001b[0m\u001b[0m\n\u001b[1;32m     33\u001b[0m   \u001b[0;32massert\u001b[0m \u001b[0mnextDay\u001b[0m\u001b[0;34m(\u001b[0m\u001b[0;36m2013\u001b[0m\u001b[0;34m,\u001b[0m \u001b[0;36m1\u001b[0m\u001b[0;34m,\u001b[0m \u001b[0;36m1\u001b[0m\u001b[0;34m)\u001b[0m\u001b[0;34m==\u001b[0m \u001b[0;34m(\u001b[0m\u001b[0;36m2013\u001b[0m\u001b[0;34m,\u001b[0m \u001b[0;36m1\u001b[0m\u001b[0;34m,\u001b[0m \u001b[0;36m2\u001b[0m\u001b[0;34m)\u001b[0m\u001b[0;34m\u001b[0m\u001b[0m\n",
            "\u001b[0;31mNameError\u001b[0m: global name 'daysBetweenDates' is not defined"
          ]
        }
      ]
    },
    {
      "metadata": {
        "id": "ku4R4oUFzfAY",
        "colab_type": "text"
      },
      "cell_type": "markdown",
      "source": [
        "###1-39 "
      ]
    },
    {
      "metadata": {
        "id": "WUWjNDBXzxca",
        "colab_type": "code",
        "colab": {}
      },
      "cell_type": "code",
      "source": [
        "def test():\n",
        "  test_cases =[((2012, 1, 1, 2012, 2, 28), 58)\n",
        "               ((2012, 1, 1, 2012, 3, 1), 60)\n",
        "               ((2011, 6, 30, 2012, 6, 30), 366)\n",
        "               ((2011, 1, 1, 2012, 8, 8), 585)\n",
        "               ((1900, 1, 1, 1999, 12, 31), 36523)]\n",
        "  for (args, answer) in test_cases:\n",
        "        result = daysBetweenDates(*args)\n",
        "        if result != answer:\n",
        "            print \"Test with data:\", args, \"failed\"\n",
        "        else:\n",
        "            print \"Test case passed!\"\n"
      ],
      "execution_count": 0,
      "outputs": []
    },
    {
      "metadata": {
        "id": "_1YFVZiNlAz2",
        "colab_type": "text"
      },
      "cell_type": "markdown",
      "source": [
        "# # Dave Evan's completed program"
      ]
    },
    {
      "metadata": {
        "id": "3sCS8y4Q3SmD",
        "colab_type": "text"
      },
      "cell_type": "markdown",
      "source": [
        "## Breaking down Dave Eans' code to functions and calls\n",
        "\n",
        "###def daysBetweenDates(year1, month1, day1, year2, month2, day2):\n",
        "                calls **nextDay**\n",
        "                assetion has been added if the date is invalid\n",
        "\n",
        "###def nextDay(year, month, day):\n",
        "              calls **daysInMonth**\n",
        "\n",
        "\n",
        "###def dateIsBefore(year1, month1, day1, year2, month2, day2):\n",
        "        no calls to other funtions, just makes sure date1 is less than date2\n",
        "\n",
        "###def daysInMonth(year, month):\n",
        "\n",
        "###def isLeapYear(year):\n",
        "\n",
        "\n",
        "###def test():"
      ]
    },
    {
      "metadata": {
        "id": "Zd4mBpdpcpSY",
        "colab_type": "code",
        "colab": {
          "base_uri": "https://localhost:8080/",
          "height": 34
        },
        "outputId": "c594a481-4593-40f9-dfb7-8ee3d488ae0e"
      },
      "cell_type": "code",
      "source": [
        "\n",
        "def daysBetweenDates(year1, month1, day1, year2, month2, day2):\n",
        "  assert not dateIsBefore(year2, month2, day2, year1, month1, day1)\n",
        "  days =0\n",
        "  while dateIsBefore(year1, month1, day1, year2, month2, day2):\n",
        "        year1, month1, day1 = nextDay(year1, month1, day1)\n",
        "        days += 1\n",
        "  return days    \n",
        "\n",
        "\n",
        "def nextDay(year, month, day):\n",
        "    # call daysInMonth()\n",
        "    if day < daysInMonth(year, month):\n",
        "        return year, month, day + 1\n",
        "    else:\n",
        "        if month < 12:\n",
        "            return year, month + 1, 1\n",
        "        else:\n",
        "            return year + 1, 1, 1\n",
        "\n",
        "\n",
        "# didn't have a clue how to solve this helper function          \n",
        "def dateIsBefore(year1, month1, day1, year2, month2, day2):\n",
        "  if year1 < year2:\n",
        "    return True\n",
        "  if year1 == year2:\n",
        "    if month1 < month2:\n",
        "      return True\n",
        "    if month1 == month2:\n",
        "      return day1 < day2\n",
        "    return False\n",
        "\n",
        "\n",
        "   \n",
        "def daysInMonth(year, month):\n",
        "    if month == 2:\n",
        "        if isLeapYear(year):\n",
        "            return 29\n",
        "        return 28\n",
        "    elif month == 4 or month == 6 or month == 9 or month == 11:\n",
        "        return 30\n",
        "    else:\n",
        "        return 31 \n",
        "\n",
        "    \n",
        "  \n",
        "  \n",
        "def isLeapYear(year):\n",
        "  if year%400==0:\n",
        "    return True\n",
        "  if year %100==0:\n",
        "    return False\n",
        "  if year % 4 ==0:\n",
        "    return True\n",
        "  return False\n",
        "\n",
        "\n",
        "def test():\n",
        "    assert daysBetweenDates(2013, 1, 1, 2013, 1, 1) == 0\n",
        "    assert daysBetweenDates(2013, 1, 1, 2013, 1, 2) == 1\n",
        "    assert nextDay(2013, 1, 1) == (2013, 1, 2)\n",
        "    assert nextDay(2013, 4, 30) == (2013, 5, 1)\n",
        "    assert nextDay(2012, 12, 31) == (2013, 1, 1)\n",
        "    assert nextDay(2013, 2, 28) == (2013, 3, 1)\n",
        "    assert daysBetweenDates(2013, 1, 1, 2014, 1, 1) == 365  \n",
        "\n",
        "    # added tests for leap years\n",
        "    assert nextDay (2012, 2, 28) == (2012, 2, 29)\n",
        "    assert daysBetweenDates(2012, 1, 1, 2013, 1, 1) == 366      \n",
        "    print 'Tests Completed'\n",
        "\n",
        "#test()\n",
        "\n",
        "daysBetweenDates(1946, 12, 22, 2018, 5, 11)"
      ],
      "execution_count": 0,
      "outputs": [
        {
          "output_type": "execute_result",
          "data": {
            "text/plain": [
              "26073"
            ]
          },
          "metadata": {
            "tags": []
          },
          "execution_count": 19
        }
      ]
    },
    {
      "metadata": {
        "id": "8jLsPIN6OaFo",
        "colab_type": "code",
        "colab": {}
      },
      "cell_type": "code",
      "source": [
        ""
      ],
      "execution_count": 0,
      "outputs": []
    },
    {
      "metadata": {
        "id": "rnt7JyvGOptj",
        "colab_type": "code",
        "colab": {}
      },
      "cell_type": "code",
      "source": [
        ""
      ],
      "execution_count": 0,
      "outputs": []
    },
    {
      "metadata": {
        "id": "voP03s4bFoQF",
        "colab_type": "code",
        "colab": {}
      },
      "cell_type": "code",
      "source": [
        ""
      ],
      "execution_count": 0,
      "outputs": []
    }
  ]
}