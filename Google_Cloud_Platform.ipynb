{
  "nbformat": 4,
  "nbformat_minor": 0,
  "metadata": {
    "colab": {
      "name": "Google Cloud Platform.ipynb",
      "version": "0.3.2",
      "provenance": [],
      "collapsed_sections": [],
      "include_colab_link": true
    },
    "kernelspec": {
      "name": "python3",
      "display_name": "Python 3"
    }
  },
  "cells": [
    {
      "cell_type": "markdown",
      "metadata": {
        "id": "view-in-github",
        "colab_type": "text"
      },
      "source": [
        "[View in Colaboratory](https://colab.research.google.com/github/motnellig/training-data-analyst/blob/master/Google_Cloud_Platform.ipynb)"
      ]
    },
    {
      "metadata": {
        "id": "WCb85J1z-Fh2",
        "colab_type": "text"
      },
      "cell_type": "markdown",
      "source": [
        "# **My Personal Google CloudPlatform**\n",
        "or\n",
        "## How to get back  to the DataLab"
      ]
    },
    {
      "metadata": {
        "id": "GprsKsxg-dMK",
        "colab_type": "text"
      },
      "cell_type": "markdown",
      "source": [
        "!I have now taken six or seven google sponsored Coursera courses, at $50 a pop, to learn how to use and navigate the Google Cloud Platform and everytime is like the first one.  Admittedly, these courses have been spread over the last year and a half but even so, I seem to need all the help that I can get.\n",
        "\n",
        "Every google account can have a one year, $300 credit to play on this platform.  Presently I am on tegillengcp2@gmail.com.  There have been at least seven previous traning accounts.  Some of my previous accounts have only lasted a week or two since the vm and disk storage keep running and this costs money.  The last account, I was doing other things and I thought that I deleted all my active projects and vms and storage but there was only a dollar left when I tried to use it again.\n",
        "\n",
        "I also discovered that there is a \"always free\" applications. \n",
        "https://cloud.google.com/free/docs/frequently-asked-questions?hl=en_US#always-free\n",
        "\n",
        "I am presently exploring this offer.  Esentially is the basic cpu, vm, and storage available so that you can experiment with the platform; esesntially that is all that I want to do at this point."
      ]
    },
    {
      "metadata": {
        "id": "0k2FEHp7CiSZ",
        "colab_type": "text"
      },
      "cell_type": "markdown",
      "source": [
        ""
      ]
    },
    {
      "metadata": {
        "id": "aoTW59QqCr7U",
        "colab_type": "text"
      },
      "cell_type": "markdown",
      "source": [
        "# **How to find the Google Cloud Platform (gcp)**\n",
        "\n",
        "Open the chrome (or probably any) browser and type in:\n",
        "\n",
        "https://console.cloud.google.com/\n",
        "\n",
        "This will get you into the cloud.  It logs you into  your google account that you are using and in my case that is tegillen@gmail.com.  If that is not this week's free account , go to the right upper corner and change to the appropriate account.\n",
        "\n",
        "\n",
        "\n",
        "![alt text](https://drive.google.com/drive/u/0/folders/1_bqJYQiD8JoZa2GojGa0wdhTmzK7f5fd))"
      ]
    },
    {
      "metadata": {
        "id": "Y4oqDDLqltjM",
        "colab_type": "text"
      },
      "cell_type": "markdown",
      "source": [
        "## How to start a project\n",
        "\n",
        "Once you have entered the magic realm of gcp and made sure that you were in the correct account and applied for your free credits, you need to start a project.  All the incantations and actions are in a project.  A project is required to use Google Cloud Platform.\n",
        "\n",
        "Go to gpc https://console.cloud.google.com/cloud-resource-manager .  \n",
        "\n",
        "Click Create Project.  Fill in a name and the platform will supply an id that is unique across the entire google cloud.\n"
      ]
    },
    {
      "metadata": {
        "id": "6IcJdJOATyLy",
        "colab_type": "text"
      },
      "cell_type": "markdown",
      "source": [
        "## How to Delete a Project\n",
        "\n",
        "Shutting down (deleting) projects should be rare unless you are just messing around trying to figure out how the platform work or you are trying to minimize fees.\n",
        "\n",
        "Open the Setting page https://console.cloud.google.com/iam-admin/settings\n",
        "\n",
        "Click Select a project. Select a project you wish to delete, and click Open.  Click Shut down.  Enter the Project ID, then click Shut down."
      ]
    },
    {
      "metadata": {
        "id": "92GbA8Uxa436",
        "colab_type": "text"
      },
      "cell_type": "markdown",
      "source": [
        "## Support for Free Tier\n",
        "\n",
        "https://cloud.google.com/free/?utm_campaign=2016-gc-cnc-nurture-email-other-c3-vpinfra-infra&utm_source=nurture&utm_medium=emailinfra9-9a&gcpngmt=infra&cntctg=cnsdr&mkt_tok=eyJpIjoiWVRjek16QTRaRFEyT1RNMyIsInQiOiJZTENvZ0ZMdXArRmNxOWt4TkF1Z3NZMExkb2pkbEN5SkhBaVQwcXMzbkZ2YTBKUGRSSlJUYmdZUDhVSHRNMzFcL3ZDMTVQdlIwcXJ6ekR3Y2FGanA5d3NnSlpQenYrUDkxWkp1b01nVjJEUmpaVUphZXdlclRYVWpkQiswQUs3TkQifQ%3D%3D\n",
        "\n",
        "\n",
        "https://cloud.google.com/free/docs/frequently-asked-questions\n",
        "\n",
        "I still have not figured it out but I am unable to keep the billing at zero.  There is always about a dollar a day charged to the account.  This is still a work in progress."
      ]
    },
    {
      "metadata": {
        "id": "BJDeUhL4Sd9l",
        "colab_type": "text"
      },
      "cell_type": "markdown",
      "source": [
        "## Create a VM\n",
        "https://cloud.google.com/compute/docs/quickstart-linux\n",
        "\n",
        "After the project (which you can consider as a container for vms') is constructed, a vm needs to be made.  This is where all the work and billing is done.\n",
        "\n",
        "In the GCP Console, go to the VM Instances page.\n",
        "https://console.cloud.google.com/compute/instances\n",
        "\n",
        "Click Create instance.\n",
        "In the Boot disk section, click Change to begin configuring your boot disk.\n",
        "\n",
        "In the OS images tab, choose Debian 9.\n",
        "Click Select.\n",
        "\n",
        "In the Firewall section, select Allow HTTP traffic.\n",
        "Click Create to create the instance.\n",
        "\n"
      ]
    },
    {
      "metadata": {
        "id": "c8STvr-TV-f5",
        "colab_type": "text"
      },
      "cell_type": "markdown",
      "source": [
        "## Enable Compute Engine API\n",
        "\n",
        "\n",
        "\n",
        "Step 2\n",
        "In the Cloud Platform console, click the top left three-bar icon to open the Products & Services menu. The console's online help and documentation refer to this menu as the \"left-side menu.\"\n",
        "\n",
        "In the left-side menu, click APIs & Services > Dashboard.\n",
        "\n",
        "Step 3\n",
        "Click Enable APIs and Services.\n",
        "\n",
        "Step 4\n",
        "In the search bar, type: Compute Engine\n",
        "\n",
        "Step 5\n",
        "Click Google Compute Engine API in the search results.\n",
        "\n",
        "Step 6\n",
        "If you see a Disable button at top, the Compute Engine API is already enabled. Do not click the Disable button. Instead, skip to the \"Using Cloud Launcher\" section below.\n",
        "\n",
        "Otherwise, you will see an Enable button at top. The presence of this button means that the Compute Engine API is not presently enabled in this project, so you must enable it now. Click the Enable button.\n",
        "\n",
        "Wait for the operation to complete. Several minutes may be required. The operation is complete when the Disable button appears, together with several graphs of usage (all blank, because the Compute Engine API has just been enabled). Do not click the Disable button. Instead, proceed to the \"Using Cloud Launcher\" section below.\n"
      ]
    },
    {
      "metadata": {
        "id": "yQaQa7wjWhbh",
        "colab_type": "text"
      },
      "cell_type": "markdown",
      "source": [
        "## Enable billing\n",
        "\n",
        "https://cloud.google.com/billing/docs/how-to/modify-project"
      ]
    },
    {
      "metadata": {
        "id": "CR-XbhbVb60D",
        "colab_type": "code",
        "colab": {
          "base_uri": "https://localhost:8080/",
          "height": 136
        },
        "outputId": "5ff01225-c33c-4ca3-aecc-f7c160ee20e2"
      },
      "cell_type": "code",
      "source": [
        "# using the day periodic value\n",
        "interestRate=.045\n",
        "periodicRate=.000123288\n",
        "loanAmount =100000.\n",
        "\n",
        "yearlyInterest =loanAmount * interestRate\n",
        "\n",
        "i=0\n",
        "periodicAmount=0\n",
        "\n",
        "while i<365:\n",
        "  periodicAmount = periodicAmount + periodicRate*loanAmount\n",
        "  #print (periodicAmount)\n",
        "  i=i+1\n",
        "  #return periodicAmount\n",
        "\n",
        "print (100000*.045/12)\n",
        "print (yearlyInterest)\n",
        "print ()\n",
        "print (periodicAmount)\n",
        "print(\"Monthly Simple Interest Rate is $\" + str(100000*.045/12) )\n",
        "print(\"Yearly Simple Interest Rate is $\" + str(yearlyInterest) )\n",
        "print(\"Yearly Periodic Interest Rate is $\" + str(periodicAmount) )"
      ],
      "execution_count": 0,
      "outputs": [
        {
          "output_type": "stream",
          "text": [
            "375.0\n",
            "4500.0\n",
            "\n",
            "4500.01199999997\n",
            "Monthly Simple Interest Rate is $375.0\n",
            "Yearly Simple Interest Rate is $4500.0\n",
            "Yearly Periodic Interest Rate is $4500.01199999997\n"
          ],
          "name": "stdout"
        }
      ]
    },
    {
      "metadata": {
        "id": "_qYdBS_tNyrO",
        "colab_type": "code",
        "colab": {}
      },
      "cell_type": "code",
      "source": [
        ""
      ],
      "execution_count": 0,
      "outputs": []
    }
  ]
}